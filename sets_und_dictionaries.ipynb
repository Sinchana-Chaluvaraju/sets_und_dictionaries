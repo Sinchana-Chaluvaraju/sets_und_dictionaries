{
  "nbformat": 4,
  "nbformat_minor": 0,
  "metadata": {
    "colab": {
      "provenance": [],
      "authorship_tag": "ABX9TyMHwlOeTjFDefq/iSsSEdAw",
      "include_colab_link": true
    },
    "kernelspec": {
      "name": "python3",
      "display_name": "Python 3"
    },
    "language_info": {
      "name": "python"
    }
  },
  "cells": [
    {
      "cell_type": "markdown",
      "metadata": {
        "id": "view-in-github",
        "colab_type": "text"
      },
      "source": [
        "<a href=\"https://colab.research.google.com/github/Sinchana-Chaluvaraju/sets_und_dictionaries/blob/main/sets_und_dictionaries.ipynb\" target=\"_parent\"><img src=\"https://colab.research.google.com/assets/colab-badge.svg\" alt=\"Open In Colab\"/></a>"
      ]
    },
    {
      "cell_type": "code",
      "execution_count": 1,
      "metadata": {
        "colab": {
          "base_uri": "https://localhost:8080/"
        },
        "id": "yyy-hFeMt4Xf",
        "outputId": "234b6a67-34ac-48f2-ddc0-47558c185cf2"
      },
      "outputs": [
        {
          "output_type": "stream",
          "name": "stdout",
          "text": [
            "{'banana', 'cherry', 'apple'}\n"
          ]
        }
      ],
      "source": [
        "myset = {\"apple\", \"banana\", \"cherry\"}\n",
        "print(myset)"
      ]
    },
    {
      "cell_type": "code",
      "source": [
        "#duplicates will be ignored\n",
        "myset = {\"apple\", \"banana\", \"cherry\", \"apple\"}\n",
        "print(myset)"
      ],
      "metadata": {
        "colab": {
          "base_uri": "https://localhost:8080/"
        },
        "id": "tJjQ8i43uLXG",
        "outputId": "7776766a-1366-4911-eb90-0408b5c740c6"
      },
      "execution_count": 2,
      "outputs": [
        {
          "output_type": "stream",
          "name": "stdout",
          "text": [
            "{'banana', 'cherry', 'apple'}\n"
          ]
        }
      ]
    },
    {
      "cell_type": "code",
      "source": [
        "#true and 1 are considered same\n",
        "myset = {\"apple\", \"banana\", \"cherry\", True, 1, 2} #hence 1 will be ignored\n",
        "print(myset)"
      ],
      "metadata": {
        "colab": {
          "base_uri": "https://localhost:8080/"
        },
        "id": "pICCpKL8ubcn",
        "outputId": "f78b27ab-3b7c-4473-ce54-a798c06d1386"
      },
      "execution_count": 3,
      "outputs": [
        {
          "output_type": "stream",
          "name": "stdout",
          "text": [
            "{True, 2, 'cherry', 'apple', 'banana'}\n"
          ]
        }
      ]
    },
    {
      "cell_type": "code",
      "source": [
        "#False and 0 are considered same and 0 will be ignored\n",
        "myset = {\"apple\", \"banana\", \"cherry\", False, True, 0}\n",
        "print(myset)"
      ],
      "metadata": {
        "colab": {
          "base_uri": "https://localhost:8080/"
        },
        "id": "6Zkn1x3ruqlg",
        "outputId": "80e807fd-9ce2-446b-b305-54038e02cb03"
      },
      "execution_count": 4,
      "outputs": [
        {
          "output_type": "stream",
          "name": "stdout",
          "text": [
            "{False, True, 'cherry', 'apple', 'banana'}\n"
          ]
        }
      ]
    },
    {
      "cell_type": "code",
      "source": [
        "#length of a set\n",
        "myset = {\"apple\", \"banana\", \"cherry\"}\n",
        "\n",
        "print(len(myset))"
      ],
      "metadata": {
        "colab": {
          "base_uri": "https://localhost:8080/"
        },
        "id": "IvA8G4qyvCok",
        "outputId": "37c5c6e7-3550-4796-da82-041040ffa2f8"
      },
      "execution_count": 5,
      "outputs": [
        {
          "output_type": "stream",
          "name": "stdout",
          "text": [
            "3\n"
          ]
        }
      ]
    },
    {
      "cell_type": "code",
      "source": [
        "#set items and data types\n",
        "set1 = {\"apple\", \"banana\", \"cherry\"}\n",
        "set2 = {1, 5, 7, 9, 3}\n",
        "set3 = {True, False, False}\n",
        "print(set1)\n",
        "print(set2)\n",
        "print(set3)"
      ],
      "metadata": {
        "colab": {
          "base_uri": "https://localhost:8080/"
        },
        "id": "SCIwiMT5vM50",
        "outputId": "216e37d4-330a-4bfc-f8d4-d7c9e22e3766"
      },
      "execution_count": 6,
      "outputs": [
        {
          "output_type": "stream",
          "name": "stdout",
          "text": [
            "{'banana', 'cherry', 'apple'}\n",
            "{1, 3, 5, 7, 9}\n",
            "{False, True}\n"
          ]
        }
      ]
    },
    {
      "cell_type": "code",
      "source": [
        "#A set can contain different data types\n",
        "set1 = {\"abc\", 34, True, 40, \"male\"}\n",
        "print(set1)"
      ],
      "metadata": {
        "colab": {
          "base_uri": "https://localhost:8080/"
        },
        "id": "ddjqCjL5v7Xo",
        "outputId": "62a9a9de-6008-4765-df5e-9efa02d650ae"
      },
      "execution_count": 7,
      "outputs": [
        {
          "output_type": "stream",
          "name": "stdout",
          "text": [
            "{'male', 34, True, 'abc', 40}\n"
          ]
        }
      ]
    },
    {
      "cell_type": "code",
      "source": [
        "#type()=<class 'set'>\n",
        "set1 = {\"apple\", \"banana\", \"cherry\"}\n",
        "set2 = {1, 5, 7, 9, 3}\n",
        "set3 = {True, False, False}\n",
        "print(type(set1))\n",
        "print(type(set2))\n",
        "print(type(set3))"
      ],
      "metadata": {
        "colab": {
          "base_uri": "https://localhost:8080/"
        },
        "id": "cj4l94OywGjY",
        "outputId": "58b78e74-17a0-4276-bbd0-10726e198b8d"
      },
      "execution_count": 8,
      "outputs": [
        {
          "output_type": "stream",
          "name": "stdout",
          "text": [
            "<class 'set'>\n",
            "<class 'set'>\n",
            "<class 'set'>\n"
          ]
        }
      ]
    },
    {
      "cell_type": "code",
      "source": [
        "#How to construct set? ----> use set()\n",
        "set1 = set((\"apple\", \"banana\", \"cherry\")) # note the double round-brackets\n",
        "print(set1)"
      ],
      "metadata": {
        "colab": {
          "base_uri": "https://localhost:8080/"
        },
        "id": "-PpCoFzPwT8G",
        "outputId": "ef4b27b7-c249-4b34-8440-ceae18bbe4dc"
      },
      "execution_count": 10,
      "outputs": [
        {
          "output_type": "stream",
          "name": "stdout",
          "text": [
            "{'banana', 'cherry', 'apple'}\n"
          ]
        }
      ]
    },
    {
      "cell_type": "code",
      "source": [
        "#for loop\n",
        "myset = {\"apple\", \"banana\", \"cherry\"}\n",
        "\n",
        "for x in myset:\n",
        "  print(x)"
      ],
      "metadata": {
        "colab": {
          "base_uri": "https://localhost:8080/"
        },
        "id": "elvMeHO_wsG8",
        "outputId": "03482c17-976e-4c7a-d2aa-28e7a35d3809"
      },
      "execution_count": 11,
      "outputs": [
        {
          "output_type": "stream",
          "name": "stdout",
          "text": [
            "banana\n",
            "cherry\n",
            "apple\n"
          ]
        }
      ]
    },
    {
      "cell_type": "code",
      "source": [
        "#boolean results\n",
        "myset = {\"apple\", \"banana\", \"cherry\"}\n",
        "print(\"banana\" not in myset)\n",
        "print(\"banana\" in myset)"
      ],
      "metadata": {
        "colab": {
          "base_uri": "https://localhost:8080/"
        },
        "id": "X33zJdWpzqOb",
        "outputId": "427f5953-d387-4b9d-f03b-1b4a7e011dd6"
      },
      "execution_count": 13,
      "outputs": [
        {
          "output_type": "stream",
          "name": "stdout",
          "text": [
            "False\n",
            "True\n"
          ]
        }
      ]
    },
    {
      "cell_type": "code",
      "source": [
        "#Add items to the set\n",
        "myset = {\"apple\", \"banana\", \"cherry\"}\n",
        "myset.add(\"orange\")\n",
        "print(myset)"
      ],
      "metadata": {
        "colab": {
          "base_uri": "https://localhost:8080/"
        },
        "id": "1Eucn65az0hY",
        "outputId": "99aa5125-2528-41a0-8f34-01415b595be3"
      },
      "execution_count": 15,
      "outputs": [
        {
          "output_type": "stream",
          "name": "stdout",
          "text": [
            "{'banana', 'cherry', 'orange', 'apple'}\n"
          ]
        }
      ]
    },
    {
      "cell_type": "code",
      "source": [
        "#adding a new set to the existing set\n",
        "myset = {\"apple\", \"banana\", \"cherry\"}\n",
        "tropical = {\"pineapple\", \"mango\", \"papaya\"}\n",
        "\n",
        "myset.update(tropical)\n",
        "\n",
        "print(myset)"
      ],
      "metadata": {
        "colab": {
          "base_uri": "https://localhost:8080/"
        },
        "id": "UWYtgEfQ0PNe",
        "outputId": "ad29e0e1-3658-4e8b-b67c-06c11b8c9a23"
      },
      "execution_count": 16,
      "outputs": [
        {
          "output_type": "stream",
          "name": "stdout",
          "text": [
            "{'papaya', 'cherry', 'pineapple', 'apple', 'mango', 'banana'}\n"
          ]
        }
      ]
    },
    {
      "cell_type": "code",
      "source": [
        "#Adding Any Iterable\n",
        "myset = {\"apple\", \"banana\", \"cherry\"}\n",
        "mylist = [\"kiwi\", \"orange\"]\n",
        "\n",
        "myset.update(mylist)\n",
        "\n",
        "print(myset)"
      ],
      "metadata": {
        "colab": {
          "base_uri": "https://localhost:8080/"
        },
        "id": "f1cnyg-w0hvz",
        "outputId": "e53d1c55-d40d-4595-aa4d-a0ccd81449da"
      },
      "execution_count": 17,
      "outputs": [
        {
          "output_type": "stream",
          "name": "stdout",
          "text": [
            "{'apple', 'kiwi', 'cherry', 'banana', 'orange'}\n"
          ]
        }
      ]
    },
    {
      "cell_type": "code",
      "source": [
        "#Remove items from set\n",
        "myset = {\"apple\", \"banana\", \"cherry\"}\n",
        "\n",
        "myset.remove(\"banana\")\n",
        "\n",
        "print(myset)"
      ],
      "metadata": {
        "colab": {
          "base_uri": "https://localhost:8080/"
        },
        "id": "INYrReIg1c6F",
        "outputId": "3e9822fc-e774-4a8c-f265-7bad3278da67"
      },
      "execution_count": 18,
      "outputs": [
        {
          "output_type": "stream",
          "name": "stdout",
          "text": [
            "{'cherry', 'apple'}\n"
          ]
        }
      ]
    },
    {
      "cell_type": "code",
      "source": [
        "#can remove items using discard()\n",
        "myset = {\"apple\", \"banana\", \"cherry\"}\n",
        "\n",
        "myset.discard(\"banana\")\n",
        "\n",
        "print(myset)"
      ],
      "metadata": {
        "colab": {
          "base_uri": "https://localhost:8080/"
        },
        "id": "t0r5nPO01scJ",
        "outputId": "9d71d448-e746-40ef-d42d-94089624d0a1"
      },
      "execution_count": 19,
      "outputs": [
        {
          "output_type": "stream",
          "name": "stdout",
          "text": [
            "{'cherry', 'apple'}\n"
          ]
        }
      ]
    },
    {
      "cell_type": "code",
      "source": [
        "#to remove random items use pop()\n",
        "myset = {\"apple\", \"banana\", \"cherry\"}\n",
        "\n",
        "x = myset.pop()\n",
        "\n",
        "print(x)\n",
        "\n",
        "print(myset)   #It shows randomly removed item along with the remaining items"
      ],
      "metadata": {
        "colab": {
          "base_uri": "https://localhost:8080/"
        },
        "id": "FjdRP1o914yI",
        "outputId": "358b78bf-261c-40ff-be48-b5c12263d255"
      },
      "execution_count": 20,
      "outputs": [
        {
          "output_type": "stream",
          "name": "stdout",
          "text": [
            "banana\n",
            "{'cherry', 'apple'}\n"
          ]
        }
      ]
    },
    {
      "cell_type": "code",
      "source": [
        "#How to empty a set? -----> use clear()\n",
        "myset = {\"apple\", \"banana\", \"cherry\"}\n",
        "\n",
        "myset.clear()\n",
        "\n",
        "print(myset)"
      ],
      "metadata": {
        "colab": {
          "base_uri": "https://localhost:8080/"
        },
        "id": "AJDMovSU2IXn",
        "outputId": "9d5df0ce-02f4-4f87-fe37-6a178d77c406"
      },
      "execution_count": 21,
      "outputs": [
        {
          "output_type": "stream",
          "name": "stdout",
          "text": [
            "set()\n"
          ]
        }
      ]
    },
    {
      "cell_type": "code",
      "source": [
        "'''\n",
        "#How to delete a set?\n",
        "myset = {\"apple\", \"banana\", \"cherry\"}\n",
        "\n",
        "del myset\n",
        "\n",
        "print(myset)\n",
        "'''"
      ],
      "metadata": {
        "colab": {
          "base_uri": "https://localhost:8080/",
          "height": 35
        },
        "id": "JKUOmjtX2joh",
        "outputId": "6f0e9039-1ff0-4f3d-f251-31c9a8f59243"
      },
      "execution_count": 24,
      "outputs": [
        {
          "output_type": "execute_result",
          "data": {
            "text/plain": [
              "'\\n#How to delete a set?\\nmyset = {\"apple\", \"banana\", \"cherry\"}\\n\\ndel myset\\n\\nprint(myset)\\n'"
            ],
            "application/vnd.google.colaboratory.intrinsic+json": {
              "type": "string"
            }
          },
          "metadata": {},
          "execution_count": 24
        }
      ]
    },
    {
      "cell_type": "code",
      "source": [
        "#joining two sets to a new set\n",
        "#Method 1 ----> use union()\n",
        "set1 = {\"a\", \"b\", \"c\"}\n",
        "set2 = {1, 2, 3}\n",
        "\n",
        "set3 = set1.union(set2)\n",
        "print(set3)"
      ],
      "metadata": {
        "colab": {
          "base_uri": "https://localhost:8080/"
        },
        "id": "PCA2zCND21Sy",
        "outputId": "2a3602f0-4bed-4b51-cfb5-83cf8ca42f35"
      },
      "execution_count": 27,
      "outputs": [
        {
          "output_type": "stream",
          "name": "stdout",
          "text": [
            "{1, 2, 'c', 3, 'b', 'a'}\n"
          ]
        }
      ]
    },
    {
      "cell_type": "code",
      "source": [
        "#Method 2 ----> use |\n",
        "set1 = {\"a\", \"b\", \"c\"}\n",
        "set2 = {1, 2, 3}\n",
        "\n",
        "set3 = set1 | set2\n",
        "print(set3)"
      ],
      "metadata": {
        "colab": {
          "base_uri": "https://localhost:8080/"
        },
        "id": "PNktFHMS41_K",
        "outputId": "f851bb0f-9d5d-4223-b029-86c32e85dca3"
      },
      "execution_count": 28,
      "outputs": [
        {
          "output_type": "stream",
          "name": "stdout",
          "text": [
            "{1, 2, 'c', 3, 'b', 'a'}\n"
          ]
        }
      ]
    },
    {
      "cell_type": "code",
      "source": [
        "#joining multiple sets to a new set\n",
        "#Method 1\n",
        "set1 = {\"a\", \"b\", \"c\"}\n",
        "set2 = {1, 2, 3}\n",
        "set3 = {\"John\", \"Elena\"}\n",
        "set4 = {\"apple\", \"bananas\", \"cherry\"}\n",
        "\n",
        "myset = set1.union(set2, set3, set4)\n",
        "print(myset)"
      ],
      "metadata": {
        "colab": {
          "base_uri": "https://localhost:8080/"
        },
        "id": "UseBwBo-5CWq",
        "outputId": "7cad7282-7244-4182-b47c-6e30dcd67999"
      },
      "execution_count": 29,
      "outputs": [
        {
          "output_type": "stream",
          "name": "stdout",
          "text": [
            "{1, 2, 3, 'bananas', 'b', 'apple', 'a', 'John', 'c', 'cherry', 'Elena'}\n"
          ]
        }
      ]
    },
    {
      "cell_type": "code",
      "source": [
        "#Method 2\n",
        "set1 = {\"a\", \"b\", \"c\"}\n",
        "set2 = {1, 2, 3}\n",
        "set3 = {\"John\", \"Elena\"}\n",
        "set4 = {\"apple\", \"bananas\", \"cherry\"}\n",
        "\n",
        "myset = set1 | set2 | set3 | set4\n",
        "print(myset)"
      ],
      "metadata": {
        "colab": {
          "base_uri": "https://localhost:8080/"
        },
        "id": "5K92owW05cWd",
        "outputId": "df9ae9cf-edd8-4bc1-e7d7-b4fb3d811caf"
      },
      "execution_count": 30,
      "outputs": [
        {
          "output_type": "stream",
          "name": "stdout",
          "text": [
            "{1, 2, 3, 'bananas', 'b', 'apple', 'a', 'John', 'c', 'cherry', 'Elena'}\n"
          ]
        }
      ]
    },
    {
      "cell_type": "code",
      "source": [
        "#joining set and tuple\n",
        "x = {\"a\", \"b\", \"c\"}\n",
        "y = (1, 2, 3)\n",
        "\n",
        "z = x.union(y)\n",
        "print(z)"
      ],
      "metadata": {
        "colab": {
          "base_uri": "https://localhost:8080/"
        },
        "id": "bG4JOUOM5psQ",
        "outputId": "f9d5e777-be34-48e1-f763-e73603ae80c3"
      },
      "execution_count": 31,
      "outputs": [
        {
          "output_type": "stream",
          "name": "stdout",
          "text": [
            "{1, 2, 3, 'b', 'a', 'c'}\n"
          ]
        }
      ]
    },
    {
      "cell_type": "code",
      "source": [
        "#Set Methods\n",
        "#add()\n",
        "fruits = {\"apple\", \"banana\", \"cherry\"}\n",
        "fruits.add(\"orange\")\n",
        "\n",
        "print(fruits)\n",
        "\n",
        "#clear()\n",
        "fruits = {\"apple\", \"banana\", \"cherry\"}\n",
        "fruits.clear()\n",
        "\n",
        "print(fruits)\n",
        "\n",
        "#copy()\n",
        "fruits = {\"apple\", \"banana\", \"cherry\"}\n",
        "x = fruits.copy()\n",
        "\n",
        "print(x)\n",
        "\n",
        "#difference ---- shortcut(sc)= '-'\n",
        "x = {\"apple\", \"banana\", \"cherry\"}\n",
        "y = {\"google\", \"microsoft\", \"apple\"}\n",
        "\n",
        "z = x.difference(y)\n",
        "\n",
        "print(z)\n",
        "\n",
        "#difference_update  ------- sc = '-='\n",
        "x = {\"apple\", \"banana\", \"cherry\"}\n",
        "y = {\"google\", \"microsoft\", \"apple\"}\n",
        "\n",
        "x.difference_update(y)\n",
        "\n",
        "print(x)\n",
        "\n",
        "#discard()\n",
        "#pop()\n",
        "#remove()\n",
        "#union()   ------------- |\n",
        "#update() --------------  |=\n",
        "\n",
        "#intersection()-----   SC = '&'\n",
        "x = {\"apple\", \"banana\", \"cherry\"}\n",
        "y = {\"google\", \"microsoft\", \"apple\"}\n",
        "\n",
        "z = x.intersection(y)\n",
        "\n",
        "print(z)\n",
        "\n",
        "#intersection_update ------ SC = '&='\n",
        "x = {\"apple\", \"banana\", \"cherry\"}\n",
        "y = {\"google\", \"microsoft\", \"apple\"}\n",
        "\n",
        "x.intersection_update(y)\n",
        "print(x)\n",
        "\n",
        "#isjoint()\n",
        "x = {\"apple\", \"banana\", \"cherry\"}\n",
        "y = {\"google\", \"microsoft\", \"facebook\"}\n",
        "\n",
        "z = x.isdisjoint(y)\n",
        "\n",
        "print(z)\n",
        "\n",
        "#issubset()-------------   <=\n",
        "x = {\"a\", \"b\", \"c\"}\n",
        "y = {\"f\", \"e\", \"d\", \"c\", \"b\", \"a\"}\n",
        "\n",
        "z = x.issubset(y)\n",
        "\n",
        "print(z)\n",
        "\n",
        "#issuperset() ------------   \t>=\n",
        "x = {\"f\", \"e\", \"d\", \"c\", \"b\", \"a\"}\n",
        "y = {\"a\", \"b\", \"c\"}\n",
        "\n",
        "z = x.issuperset(y)\n",
        "\n",
        "print(z)\n",
        "\n",
        "#symmetric_difference() -----------  ^\n",
        "x = {\"apple\", \"banana\", \"cherry\"}\n",
        "y = {\"google\", \"microsoft\", \"apple\"}\n",
        "\n",
        "z = x.symmetric_difference(y)\n",
        "\n",
        "print(z)\n",
        "\n",
        "#symmetric_difference_update() -----------   ^=\n",
        "x = {\"apple\", \"banana\", \"cherry\"}\n",
        "y = {\"google\", \"microsoft\", \"apple\"}\n",
        "\n",
        "x.symmetric_difference_update(y)\n",
        "\n",
        "print(x)"
      ],
      "metadata": {
        "colab": {
          "base_uri": "https://localhost:8080/"
        },
        "id": "ihxrHlT_51qA",
        "outputId": "e80f3859-5292-41da-b709-f95d9deef7ed"
      },
      "execution_count": 46,
      "outputs": [
        {
          "output_type": "stream",
          "name": "stdout",
          "text": [
            "{'banana', 'cherry', 'orange', 'apple'}\n",
            "set()\n",
            "{'banana', 'cherry', 'apple'}\n",
            "{'banana', 'cherry'}\n",
            "{'banana', 'cherry'}\n",
            "{'apple'}\n",
            "{'apple'}\n",
            "True\n",
            "True\n",
            "True\n",
            "{'cherry', 'google', 'microsoft', 'banana'}\n",
            "{'cherry', 'google', 'microsoft', 'banana'}\n"
          ]
        }
      ]
    },
    {
      "cell_type": "code",
      "source": [],
      "metadata": {
        "id": "NikeR6g16umq"
      },
      "execution_count": null,
      "outputs": []
    }
  ]
}