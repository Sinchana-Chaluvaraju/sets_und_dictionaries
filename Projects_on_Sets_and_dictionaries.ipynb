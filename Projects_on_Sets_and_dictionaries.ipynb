{
  "nbformat": 4,
  "nbformat_minor": 0,
  "metadata": {
    "colab": {
      "provenance": [],
      "authorship_tag": "ABX9TyN7uC0X797PS9NySkoLs6g0",
      "include_colab_link": true
    },
    "kernelspec": {
      "name": "python3",
      "display_name": "Python 3"
    },
    "language_info": {
      "name": "python"
    }
  },
  "cells": [
    {
      "cell_type": "markdown",
      "metadata": {
        "id": "view-in-github",
        "colab_type": "text"
      },
      "source": [
        "<a href=\"https://colab.research.google.com/github/Sinchana-Chaluvaraju/sets_und_dictionaries/blob/project/Projects_on_Sets_and_dictionaries.ipynb\" target=\"_parent\"><img src=\"https://colab.research.google.com/assets/colab-badge.svg\" alt=\"Open In Colab\"/></a>"
      ]
    },
    {
      "cell_type": "code",
      "execution_count": 3,
      "metadata": {
        "colab": {
          "base_uri": "https://localhost:8080/"
        },
        "id": "uqz3zhevWXU0",
        "outputId": "a006c117-6bc8-4bca-c24d-e49a654b06e0"
      },
      "outputs": [
        {
          "output_type": "stream",
          "name": "stdout",
          "text": [
            "Added: 1984 by George Orwell (ISBN: 1234567890)\n",
            "Added: To Kill a Mockingbird by Harper Lee (ISBN: 0987654321)\n",
            "Added: To Kill a Mockingbird by Harper Lee (ISBN: 0987654321)\n",
            "Added: The Great Gatsby by F. Scott Fitzgerald (ISBN: 1122334455)\n",
            "Added: Moby Dick by Herman Melville (ISBN: 2233445566)\n",
            "\n",
            "Library 1 Books:\n",
            "To Kill a Mockingbird by Harper Lee (ISBN: 0987654321)\n",
            "1984 by George Orwell (ISBN: 1234567890)\n",
            "\n",
            "Library 2 Books:\n",
            "Moby Dick by Herman Melville (ISBN: 2233445566)\n",
            "The Great Gatsby by F. Scott Fitzgerald (ISBN: 1122334455)\n",
            "To Kill a Mockingbird by Harper Lee (ISBN: 0987654321)\n",
            "\n",
            "Common Books:\n",
            "To Kill a Mockingbird by Harper Lee (ISBN: 0987654321)\n",
            "\n",
            "Unique Books in Library 1:\n",
            "1984 by George Orwell (ISBN: 1234567890)\n",
            "\n",
            "Unique Books in Library 2:\n",
            "Moby Dick by Herman Melville (ISBN: 2233445566)\n",
            "The Great Gatsby by F. Scott Fitzgerald (ISBN: 1122334455)\n"
          ]
        }
      ],
      "source": [
        "'''\n",
        "\"Project 1\"\n",
        "Author: Sinchana Chaluvaraju\n",
        "Project: Library Management System\n",
        "Objective: Create a system to manage a library's collection of books, allowing\n",
        "  for operations such as adding new books, removing books, checking for the\n",
        "  presence of a book, and finding common books between two libraries.\n",
        "Features to implement: 1. Add book\n",
        "                      2. Remove book\n",
        "                      3. Check for a book\n",
        "                      4. List all books\n",
        "                      5.Common books\n",
        "                      6. Unique Books\n",
        "'''\n",
        "class Book:\n",
        "    def __init__(self, title, author, isbn):\n",
        "        self.title = title\n",
        "        self.author = author\n",
        "        self.isbn = isbn\n",
        "\n",
        "    def __eq__(self, other):\n",
        "        return self.isbn == other.isbn\n",
        "\n",
        "    def __hash__(self):\n",
        "        return hash(self.isbn)\n",
        "\n",
        "    def __str__(self):\n",
        "        return f\"{self.title} by {self.author} (ISBN: {self.isbn})\"\n",
        "\n",
        "\n",
        "class Library:\n",
        "    def __init__(self):\n",
        "        self.books = set()\n",
        "\n",
        "    def add_book(self, book):\n",
        "        self.books.add(book)\n",
        "        print(f\"Added: {book}\")\n",
        "\n",
        "    def remove_book(self, book):\n",
        "        if book in self.books:\n",
        "            self.books.remove(book)\n",
        "            print(f\"Removed: {book}\")\n",
        "        else:\n",
        "            print(f\"Book not found: {book}\")\n",
        "\n",
        "    def check_book(self, book):\n",
        "        return book in self.books\n",
        "\n",
        "    def list_books(self):\n",
        "        if not self.books:\n",
        "            print(\"No books in the library.\")\n",
        "        else:\n",
        "            for book in self.books:\n",
        "                print(book)\n",
        "\n",
        "    def common_books(self, other_library):\n",
        "        return self.books & other_library.books\n",
        "\n",
        "    def unique_books(self, other_library):\n",
        "        return self.books - other_library.books\n",
        "\n",
        "\n",
        "def main():\n",
        "    library1 = Library()\n",
        "    library2 = Library()\n",
        "\n",
        "    # Example books\n",
        "    book1 = Book(\"1984\", \"George Orwell\", \"1234567890\")\n",
        "    book2 = Book(\"To Kill a Mockingbird\", \"Harper Lee\", \"0987654321\")\n",
        "    book3 = Book(\"The Great Gatsby\", \"F. Scott Fitzgerald\", \"1122334455\")\n",
        "    book4 = Book(\"Moby Dick\", \"Herman Melville\", \"2233445566\")\n",
        "\n",
        "    # Add books to library1\n",
        "    library1.add_book(book1)\n",
        "    library1.add_book(book2)\n",
        "\n",
        "    # Add books to library2\n",
        "    library2.add_book(book2)\n",
        "    library2.add_book(book3)\n",
        "    library2.add_book(book4)\n",
        "\n",
        "    print(\"\\nLibrary 1 Books:\")\n",
        "    library1.list_books()\n",
        "\n",
        "    print(\"\\nLibrary 2 Books:\")\n",
        "    library2.list_books()\n",
        "\n",
        "    print(\"\\nCommon Books:\")\n",
        "    common = library1.common_books(library2)\n",
        "    for book in common:\n",
        "        print(book)\n",
        "\n",
        "    print(\"\\nUnique Books in Library 1:\")\n",
        "    unique_to_lib1 = library1.unique_books(library2)\n",
        "    for book in unique_to_lib1:\n",
        "        print(book)\n",
        "\n",
        "    print(\"\\nUnique Books in Library 2:\")\n",
        "    unique_to_lib2 = library2.unique_books(library1)\n",
        "    for book in unique_to_lib2:\n",
        "        print(book)\n",
        "\n",
        "\n",
        "if __name__ == \"__main__\":\n",
        "    main()\n"
      ]
    },
    {
      "cell_type": "code",
      "source": [],
      "metadata": {
        "id": "usmK-aTjX_YP"
      },
      "execution_count": null,
      "outputs": []
    }
  ]
}